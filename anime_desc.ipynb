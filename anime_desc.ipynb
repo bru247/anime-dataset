{
 "cells": [
  {
   "cell_type": "markdown",
   "id": "e02315c9",
   "metadata": {},
   "source": [
    "### Tratamento da base"
   ]
  },
  {
   "cell_type": "code",
   "execution_count": null,
   "id": "4a299a85",
   "metadata": {},
   "outputs": [],
   "source": [
    "!pip install pandera[io]"
   ]
  },
  {
   "cell_type": "code",
   "execution_count": 1,
   "id": "6b8b755a",
   "metadata": {},
   "outputs": [],
   "source": [
    "import pandas as pd\n",
    "import numpy as np\n",
    "import pandera as pa\n",
    "from utils import tratar_colunas, tratar_duration, tratar_UNKNOWN, tratar_premiered, tratar_tipo, tratar_genre\n",
    "import re, warnings\n",
    "warnings.filterwarnings(\"ignore\")"
   ]
  },
  {
   "cell_type": "code",
   "execution_count": 2,
   "id": "ff3d2eca",
   "metadata": {},
   "outputs": [],
   "source": [
    "df = pd.read_csv('anime-dataset-2023.csv')"
   ]
  },
  {
   "cell_type": "code",
   "execution_count": 3,
   "id": "e605a655",
   "metadata": {},
   "outputs": [],
   "source": [
    "df = tratar_colunas(df)"
   ]
  },
  {
   "cell_type": "code",
   "execution_count": null,
   "id": "abae50c3",
   "metadata": {},
   "outputs": [],
   "source": [
    "df.drop([\"OTHER_NAME\",\"ENGLISH_NAME\",\"SYNOPSIS\",\"AIRED\",\"PRODUCERS\",\"LICENSORS\",\"IMAGE_URL\"], axis = 1, inplace = True)\n",
    "\n",
    "# OTHER_NAME: Names in other languages\n",
    "# ENGLISH_NAME: Many UNKNOWN. Believe it has to be licensed in USA\n",
    "# SYNOPSIS: Description. Not going to deal with that now\n",
    "# AIRED: Description. Not going to deal with that now\n",
    "# PRODUCERS: Way too many. Not going to deal with that now\n",
    "# LICENSORS: Way too many. Not going to deal with that now\n",
    "# IMAGE_URL: Not necessary for the analysis"
   ]
  },
  {
   "cell_type": "code",
   "execution_count": null,
   "id": "2cac0907",
   "metadata": {},
   "outputs": [],
   "source": [
    "df = df[~df[\"TYPE\"].isin([\"UNKNOWN\",\"Music\"])]"
   ]
  },
  {
   "cell_type": "code",
   "execution_count": null,
   "id": "43ac6173",
   "metadata": {},
   "outputs": [],
   "source": [
    "df = tratar_duration(df)\n",
    "df = tratar_UNKNOWN(df)\n",
    "df = tratar_premiered(df)\n",
    "df = tratar_tipo(df)\n",
    "df = tratar_genre(df)"
   ]
  },
  {
   "cell_type": "code",
   "execution_count": null,
   "id": "49297ea7",
   "metadata": {},
   "outputs": [],
   "source": [
    "df.head()"
   ]
  },
  {
   "cell_type": "code",
   "execution_count": null,
   "id": "91c116b0",
   "metadata": {},
   "outputs": [],
   "source": [
    "df.to_csv(\"anime-dataset-treated-2023.csv\", index = False)"
   ]
  },
  {
   "cell_type": "markdown",
   "id": "2b778fbb",
   "metadata": {},
   "source": [
    "### Validação da base"
   ]
  },
  {
   "cell_type": "code",
   "execution_count": null,
   "id": "ade77214",
   "metadata": {},
   "outputs": [],
   "source": [
    "import pandas as pd\n",
    "from validation_schema import schema"
   ]
  },
  {
   "cell_type": "code",
   "execution_count": null,
   "id": "4501a2b4",
   "metadata": {},
   "outputs": [],
   "source": [
    "df = pd.read_csv(\"anime-dataset-treated-2023.csv\")"
   ]
  },
  {
   "cell_type": "code",
   "execution_count": null,
   "id": "1bfd0e24",
   "metadata": {},
   "outputs": [],
   "source": [
    "try:\n",
    "    schema.validate(df)\n",
    "except pa.errors.SchemaError as exc:\n",
    "    print(exc)"
   ]
  },
  {
   "cell_type": "markdown",
   "id": "9882da5e",
   "metadata": {},
   "source": [
    "### Testes das funções"
   ]
  },
  {
   "cell_type": "code",
   "execution_count": null,
   "id": "bf1468c4",
   "metadata": {},
   "outputs": [],
   "source": [
    "!pytest"
   ]
  }
 ],
 "metadata": {
  "kernelspec": {
   "display_name": "Python 3 (ipykernel)",
   "language": "python",
   "name": "python3"
  },
  "language_info": {
   "codemirror_mode": {
    "name": "ipython",
    "version": 3
   },
   "file_extension": ".py",
   "mimetype": "text/x-python",
   "name": "python",
   "nbconvert_exporter": "python",
   "pygments_lexer": "ipython3",
   "version": "3.10.9"
  }
 },
 "nbformat": 4,
 "nbformat_minor": 5
}
